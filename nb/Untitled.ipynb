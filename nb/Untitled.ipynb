{
 "cells": [
  {
   "cell_type": "code",
   "execution_count": 1,
   "metadata": {},
   "outputs": [],
   "source": [
    "import mlflow"
   ]
  },
  {
   "cell_type": "code",
   "execution_count": 2,
   "metadata": {},
   "outputs": [
    {
     "name": "stderr",
     "output_type": "stream",
     "text": [
      "/opt/conda/lib/python3.8/site-packages/ipykernel/ipkernel.py:287: DeprecationWarning: `should_run_async` will not call `transform_cell` automatically in the future. Please pass the result to `transformed_cell` argument and any exception that happen during thetransform in `preprocessing_exc_tuple` in IPython 7.17 and above.\n",
      "  and should_run_async(code)\n"
     ]
    }
   ],
   "source": [
    "project_dir =  \"/home/jovyan\""
   ]
  },
  {
   "cell_type": "code",
   "execution_count": 13,
   "metadata": {},
   "outputs": [
    {
     "name": "stderr",
     "output_type": "stream",
     "text": [
      "/opt/conda/lib/python3.8/site-packages/ipykernel/ipkernel.py:287: DeprecationWarning: `should_run_async` will not call `transform_cell` automatically in the future. Please pass the result to `transformed_cell` argument and any exception that happen during thetransform in `preprocessing_exc_tuple` in IPython 7.17 and above.\n",
      "  and should_run_async(code)\n",
      "2020/09/02 01:35:33 INFO mlflow.projects.utils: === Created directory /tmp/tmppjthixcu for downloading remote URIs passed to arguments of type 'path' ===\n",
      "2020/09/02 01:35:33 INFO mlflow.projects.backend.local: === Running command 'python includes/main/python/load_data.py --file-name user_profile_data.snappy.parquet --kind user --username joshuacook --local True\n",
      "' in run with ID '0a639907925f473eb69e33dcb4854bba' === \n",
      "2020/09/02 01:36:28 INFO mlflow.projects: === Run (ID '0a639907925f473eb69e33dcb4854bba') succeeded ===\n"
     ]
    },
    {
     "data": {
      "text/plain": [
       "<mlflow.projects.submitted_run.LocalSubmittedRun at 0x7f670e2d9fa0>"
      ]
     },
     "execution_count": 13,
     "metadata": {},
     "output_type": "execute_result"
    }
   ],
   "source": [
    "load_user_data_params = {\n",
    "    \"file_name\": \"user_profile_data.snappy.parquet\",\n",
    "    \"kind\" : \"user\",\n",
    "    \"username\": \"joshuacook\",\n",
    "    \"local\": True\n",
    "}\n",
    "\n",
    "load_event_data_params = {\n",
    "    \"file_name\": \"health_profile_data.snappy.parquet\",\n",
    "    \"kind\" : \"event\",\n",
    "    \"username\": \"joshuacook\",\n",
    "    \"local\": True\n",
    "}\n",
    "\n",
    "mlflow.projects.run(\n",
    "    project_dir,\n",
    "    entry_point='load_data', \n",
    "    parameters=load_user_data_params,\n",
    "    use_conda=False\n",
    ")"
   ]
  },
  {
   "cell_type": "code",
   "execution_count": 14,
   "metadata": {},
   "outputs": [
    {
     "name": "stderr",
     "output_type": "stream",
     "text": [
      "/opt/conda/lib/python3.8/site-packages/ipykernel/ipkernel.py:287: DeprecationWarning: `should_run_async` will not call `transform_cell` automatically in the future. Please pass the result to `transformed_cell` argument and any exception that happen during thetransform in `preprocessing_exc_tuple` in IPython 7.17 and above.\n",
      "  and should_run_async(code)\n",
      "2020/09/02 01:37:27 INFO mlflow.projects.utils: === Created directory /tmp/tmpd95bi8mv for downloading remote URIs passed to arguments of type 'path' ===\n",
      "2020/09/02 01:37:27 INFO mlflow.projects.backend.local: === Running command 'python includes/main/python/load_data.py --file-name health_profile_data.snappy.parquet --kind event --username joshuacook --local True\n",
      "' in run with ID '9784b2e2305d43afb22d840a035acce2' === \n",
      "2020/09/02 01:39:03 INFO mlflow.projects: === Run (ID '9784b2e2305d43afb22d840a035acce2') succeeded ===\n"
     ]
    },
    {
     "data": {
      "text/plain": [
       "<mlflow.projects.submitted_run.LocalSubmittedRun at 0x7f670e185ca0>"
      ]
     },
     "execution_count": 14,
     "metadata": {},
     "output_type": "execute_result"
    }
   ],
   "source": [
    "mlflow.projects.run(\n",
    "    project_dir,\n",
    "    entry_point='load_data', \n",
    "    parameters=load_event_data_params,\n",
    "    use_conda=False\n",
    ")"
   ]
  },
  {
   "cell_type": "code",
   "execution_count": 8,
   "metadata": {},
   "outputs": [
    {
     "name": "stderr",
     "output_type": "stream",
     "text": [
      "/opt/conda/lib/python3.8/site-packages/ipykernel/ipkernel.py:287: DeprecationWarning: `should_run_async` will not call `transform_cell` automatically in the future. Please pass the result to `transformed_cell` argument and any exception that happen during thetransform in `preprocessing_exc_tuple` in IPython 7.17 and above.\n",
      "  and should_run_async(code)\n",
      "2020/09/02 02:51:37 INFO mlflow.projects.utils: === Created directory /tmp/tmpki_nztbu for downloading remote URIs passed to arguments of type 'path' ===\n",
      "2020/09/02 02:51:37 INFO mlflow.projects.backend.local: === Running command 'python includes/main/python/etl.py --username joshuacook --local True\n",
      "' in run with ID '0f2fd3d2b18947a9a1f65a8aca762a12' === \n",
      "2020/09/02 02:52:57 INFO mlflow.projects: === Run (ID '0f2fd3d2b18947a9a1f65a8aca762a12') succeeded ===\n"
     ]
    },
    {
     "data": {
      "text/plain": [
       "<mlflow.projects.submitted_run.LocalSubmittedRun at 0x7f1ca3b05700>"
      ]
     },
     "execution_count": 8,
     "metadata": {},
     "output_type": "execute_result"
    }
   ],
   "source": [
    "mlflow.projects.run(\n",
    "    project_dir,\n",
    "    entry_point='etl', \n",
    "    parameters={\"username\": \"joshuacook\", \"local\": True},\n",
    "    use_conda=False\n",
    ")"
   ]
  },
  {
   "cell_type": "code",
   "execution_count": 6,
   "metadata": {},
   "outputs": [
    {
     "name": "stderr",
     "output_type": "stream",
     "text": [
      "/opt/conda/lib/python3.8/site-packages/ipykernel/ipkernel.py:287: DeprecationWarning: `should_run_async` will not call `transform_cell` automatically in the future. Please pass the result to `transformed_cell` argument and any exception that happen during thetransform in `preprocessing_exc_tuple` in IPython 7.17 and above.\n",
      "  and should_run_async(code)\n",
      "2020/09/02 02:31:09 INFO mlflow.projects.utils: === Created directory data/tmpsvit_jqj for downloading remote URIs passed to arguments of type 'path' ===\n",
      "2020/09/02 02:31:09 INFO mlflow.projects.backend.local: === Running command 'python includes/main/python/experiment.py --penalty l1 --max-iter 10000 --username joshuacook --local True\n",
      "' in run with ID '7e8d067aacf7417394fdf226ae47aae2' === \n",
      "2020/09/02 02:32:02 INFO mlflow.projects: === Run (ID '7e8d067aacf7417394fdf226ae47aae2') succeeded ===\n"
     ]
    },
    {
     "data": {
      "text/plain": [
       "<mlflow.projects.submitted_run.LocalSubmittedRun at 0x7fa3c7944b80>"
      ]
     },
     "execution_count": 6,
     "metadata": {},
     "output_type": "execute_result"
    }
   ],
   "source": [
    "experiment_params = {\n",
    "    \"username\": \"joshuacook\",\n",
    "    \"penalty\": \"l1\",\n",
    "    \"max_iter\": 10000,\n",
    "    \"local\": True\n",
    "}\n",
    "\n",
    "mlflow.projects.run(\n",
    "    project_dir,\n",
    "    entry_point='experiment', \n",
    "    parameters=experiment_params,\n",
    "    use_conda=False,\n",
    "    storage_dir=\"data\"\n",
    ")"
   ]
  },
  {
   "cell_type": "code",
   "execution_count": 14,
   "metadata": {},
   "outputs": [
    {
     "name": "stderr",
     "output_type": "stream",
     "text": [
      "/opt/conda/lib/python3.8/site-packages/ipykernel/ipkernel.py:287: DeprecationWarning: `should_run_async` will not call `transform_cell` automatically in the future. Please pass the result to `transformed_cell` argument and any exception that happen during thetransform in `preprocessing_exc_tuple` in IPython 7.17 and above.\n",
      "  and should_run_async(code)\n",
      "2020/09/02 16:59:00 INFO mlflow.projects.utils: === Created directory /tmp/tmpch4m6dov for downloading remote URIs passed to arguments of type 'path' ===\n",
      "2020/09/02 16:59:00 INFO mlflow.projects.backend.local: === Running command 'python main.py --penalty l1 --username joshuacook --local True --use-conda False\n",
      "' in run with ID '6f97f51582034b2d9650153453efee29' === \n"
     ]
    },
    {
     "ename": "ExecutionException",
     "evalue": "Run (ID '6f97f51582034b2d9650153453efee29') failed",
     "output_type": "error",
     "traceback": [
      "\u001b[0;31m---------------------------------------------------------------------------\u001b[0m",
      "\u001b[0;31mExecutionException\u001b[0m                        Traceback (most recent call last)",
      "\u001b[0;32m<ipython-input-14-f557aa96c490>\u001b[0m in \u001b[0;36m<module>\u001b[0;34m\u001b[0m\n\u001b[1;32m      6\u001b[0m }\n\u001b[1;32m      7\u001b[0m \u001b[0;34m\u001b[0m\u001b[0m\n\u001b[0;32m----> 8\u001b[0;31m mlflow.projects.run(\n\u001b[0m\u001b[1;32m      9\u001b[0m     \u001b[0;34m\"/home/jovyan\"\u001b[0m\u001b[0;34m,\u001b[0m\u001b[0;34m\u001b[0m\u001b[0;34m\u001b[0m\u001b[0m\n\u001b[1;32m     10\u001b[0m     \u001b[0mentry_point\u001b[0m\u001b[0;34m=\u001b[0m\u001b[0;34m'main'\u001b[0m\u001b[0;34m,\u001b[0m\u001b[0;34m\u001b[0m\u001b[0;34m\u001b[0m\u001b[0m\n",
      "\u001b[0;32m/opt/conda/lib/python3.8/site-packages/mlflow/projects/__init__.py\u001b[0m in \u001b[0;36mrun\u001b[0;34m(uri, entry_point, version, parameters, docker_args, experiment_name, experiment_id, backend, backend_config, use_conda, storage_dir, synchronous, run_id)\u001b[0m\n\u001b[1;32m    285\u001b[0m     )\n\u001b[1;32m    286\u001b[0m     \u001b[0;32mif\u001b[0m \u001b[0msynchronous\u001b[0m\u001b[0;34m:\u001b[0m\u001b[0;34m\u001b[0m\u001b[0;34m\u001b[0m\u001b[0m\n\u001b[0;32m--> 287\u001b[0;31m         \u001b[0m_wait_for\u001b[0m\u001b[0;34m(\u001b[0m\u001b[0msubmitted_run_obj\u001b[0m\u001b[0;34m)\u001b[0m\u001b[0;34m\u001b[0m\u001b[0;34m\u001b[0m\u001b[0m\n\u001b[0m\u001b[1;32m    288\u001b[0m     \u001b[0;32mreturn\u001b[0m \u001b[0msubmitted_run_obj\u001b[0m\u001b[0;34m\u001b[0m\u001b[0;34m\u001b[0m\u001b[0m\n\u001b[1;32m    289\u001b[0m \u001b[0;34m\u001b[0m\u001b[0m\n",
      "\u001b[0;32m/opt/conda/lib/python3.8/site-packages/mlflow/projects/__init__.py\u001b[0m in \u001b[0;36m_wait_for\u001b[0;34m(submitted_run_obj)\u001b[0m\n\u001b[1;32m    302\u001b[0m         \u001b[0;32melse\u001b[0m\u001b[0;34m:\u001b[0m\u001b[0;34m\u001b[0m\u001b[0;34m\u001b[0m\u001b[0m\n\u001b[1;32m    303\u001b[0m             \u001b[0m_maybe_set_run_terminated\u001b[0m\u001b[0;34m(\u001b[0m\u001b[0mactive_run\u001b[0m\u001b[0;34m,\u001b[0m \u001b[0;34m\"FAILED\"\u001b[0m\u001b[0;34m)\u001b[0m\u001b[0;34m\u001b[0m\u001b[0;34m\u001b[0m\u001b[0m\n\u001b[0;32m--> 304\u001b[0;31m             \u001b[0;32mraise\u001b[0m \u001b[0mExecutionException\u001b[0m\u001b[0;34m(\u001b[0m\u001b[0;34m\"Run (ID '%s') failed\"\u001b[0m \u001b[0;34m%\u001b[0m \u001b[0mrun_id\u001b[0m\u001b[0;34m)\u001b[0m\u001b[0;34m\u001b[0m\u001b[0;34m\u001b[0m\u001b[0m\n\u001b[0m\u001b[1;32m    305\u001b[0m     \u001b[0;32mexcept\u001b[0m \u001b[0mKeyboardInterrupt\u001b[0m\u001b[0;34m:\u001b[0m\u001b[0;34m\u001b[0m\u001b[0;34m\u001b[0m\u001b[0m\n\u001b[1;32m    306\u001b[0m         \u001b[0m_logger\u001b[0m\u001b[0;34m.\u001b[0m\u001b[0merror\u001b[0m\u001b[0;34m(\u001b[0m\u001b[0;34m\"=== Run (ID '%s') interrupted, cancelling run ===\"\u001b[0m\u001b[0;34m,\u001b[0m \u001b[0mrun_id\u001b[0m\u001b[0;34m)\u001b[0m\u001b[0;34m\u001b[0m\u001b[0;34m\u001b[0m\u001b[0m\n",
      "\u001b[0;31mExecutionException\u001b[0m: Run (ID '6f97f51582034b2d9650153453efee29') failed"
     ]
    }
   ],
   "source": [
    "run_params = {\n",
    "    \"local\" : True,\n",
    "    \"username\" : \"joshuacook\",\n",
    "    \"penalty\" : \"l1\",\n",
    "    \"use_conda\" : False\n",
    "}\n",
    "\n",
    "mlflow.projects.run(\n",
    "    \"/home/jovyan\", \n",
    "    entry_point='main', \n",
    "    parameters=run_params,\n",
    "    use_conda=False)"
   ]
  },
  {
   "cell_type": "code",
   "execution_count": null,
   "metadata": {},
   "outputs": [],
   "source": []
  }
 ],
 "metadata": {
  "kernelspec": {
   "display_name": "Python 3",
   "language": "python",
   "name": "python3"
  },
  "language_info": {
   "codemirror_mode": {
    "name": "ipython",
    "version": 3
   },
   "file_extension": ".py",
   "mimetype": "text/x-python",
   "name": "python",
   "nbconvert_exporter": "python",
   "pygments_lexer": "ipython3",
   "version": "3.8.5"
  }
 },
 "nbformat": 4,
 "nbformat_minor": 4
}
